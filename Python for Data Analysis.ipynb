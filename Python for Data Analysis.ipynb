{
 "cells": [
  {
   "cell_type": "markdown",
   "metadata": {},
   "source": [
    "# Chapter 1\n",
    "\n",
    "### The primary focus is on *structured data*, such as\n",
    "* Tabular or spreadsheet-like data in which each column may be a different type (string, numeric, date, or otherwise). This includes most kinds of data commonly stored in relational databases or tab- or comma-delimited text files.\n",
    "* Multidimensional arrays (matrices).\n",
    "* Multiple tables of data interrelated by key columns (what would be primary or foreign keys for a SQL user).\n",
    "* Evenly or unevenly spaced time series\n",
    "\n",
    "\n",
    "### Essential Python Libraries\n",
    "#### Numpy (Numerical Python)\n",
    "* It provides the data structures, algorithms, and library glue needed for most scientific applications involving numerical data in Python.\n",
    "* One of its primary uses in data analysis is as a container for data to be passed between algorithms and libraries.\n",
    "\n",
    "#### Pandas\n",
    "* It provides high-level data structures and functions designed to make working with structured or tabular data fast, easy, and expressive.\n",
    "\n",
    "#### Matplotlib\n",
    "* It is the most popular Python library for producing plots and other twodimensional data visualizations.\n",
    "\n",
    "#### SciPy\n",
    "* scipy.integrate: Numerical integration routines and differential equation solvers\n",
    "* scipy.linalg: Linear algebra routines and matrix decompositions extending beyond those provided in numpy.linalg\n",
    "* scipy.optimize: Function optimizers (minimizers) and root finding algorithms\n",
    "* scipy.signal: Signal processing tools\n",
    "* scipy.sparse: Sparse matrices and sparse linear system solvers\n",
    "* scipy.special: Wrapper around SPECFUN, a Fortran library implementing many common mathematical functions, such as the gamma function\n",
    "* scipy.stats: Standard continuous and discrete probability distributions (density functions, samplers, continuous distribution functions), various statistical tests, and more descriptive statistics\n",
    "\n",
    "#### scikit-learn (machine learning toolkit)\n",
    "* Classification: SVM, nearest neighbors, random forest, logistic regression, etc.\n",
    "* Regression: Lasso, ridge regression, etc.\n",
    "* Clustering: k-means, spectral clustering, etc.\n",
    "* Dimensionality reduction: PCA, feature selection, matrix factorization, etc.\n",
    "* Model selection: Grid search, cross-validation, metrics\n",
    "* Preprocessing: Feature extraction, normalization\n",
    "\n",
    "#### statsmodels (algorithms for classical (primarily frequentist)   &emsp;&emsp;&emsp;&emsp;&emsp;&emsp; statistics and econometrics)\n",
    "* Regression models: Linear regression, generalized linear models, robust linearmodels, linear mixed effects models, etc.\n",
    "* Analysis of variance (ANOVA)\n",
    "* Time series analysis: AR, ARMA, ARIMA, VAR, and other models\n",
    "* Nonparametric methods: Kernel density estimation, kernel regression\n",
    "* Visualization of statistical model results\n"
   ]
  }
 ],
 "metadata": {
  "kernelspec": {
   "display_name": "Python 3",
   "language": "python",
   "name": "python3"
  },
  "language_info": {
   "codemirror_mode": {
    "name": "ipython",
    "version": 3
   },
   "file_extension": ".py",
   "mimetype": "text/x-python",
   "name": "python",
   "nbconvert_exporter": "python",
   "pygments_lexer": "ipython3",
   "version": "3.7.3"
  }
 },
 "nbformat": 4,
 "nbformat_minor": 2
}
